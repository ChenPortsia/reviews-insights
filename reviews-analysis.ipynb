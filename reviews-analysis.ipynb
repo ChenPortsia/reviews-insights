{
 "cells": [
  {
   "cell_type": "code",
   "execution_count": 2,
   "metadata": {},
   "outputs": [
    {
     "name": "stderr",
     "output_type": "stream",
     "text": [
      "c:\\Users\\naama\\Desktop\\Chen\\projects\\form\\.conda\\Lib\\site-packages\\tqdm\\auto.py:21: TqdmWarning: IProgress not found. Please update jupyter and ipywidgets. See https://ipywidgets.readthedocs.io/en/stable/user_install.html\n",
      "  from .autonotebook import tqdm as notebook_tqdm\n"
     ]
    }
   ],
   "source": [
    "from datasets import load_dataset\n",
    "import pandas as pd\n",
    "import matplotlib.pyplot as plt\n",
    "import seaborn as sns"
   ]
  },
  {
   "cell_type": "code",
   "execution_count": 34,
   "metadata": {},
   "outputs": [],
   "source": [
    "# dataset = load_dataset(\"McAuley-Lab/Amazon-Reviews-2023\")\n",
    "# raw_review_All_Beauty = load_dataset(\"McAuley-Lab/Amazon-Reviews-2023\", \"raw_review_All_Beauty\", trust_remote_code=True)\n",
    "raw_review_All_Beauty = load_dataset(\"McAuley-Lab/Amazon-Reviews-2023\", \"raw_review_All_Beauty\", split='full')"
   ]
  },
  {
   "cell_type": "code",
   "execution_count": 35,
   "metadata": {},
   "outputs": [
    {
     "data": {
      "text/plain": [
       "Dataset({\n",
       "    features: ['rating', 'title', 'text', 'images', 'asin', 'parent_asin', 'user_id', 'timestamp', 'helpful_vote', 'verified_purchase'],\n",
       "    num_rows: 701528\n",
       "})"
      ]
     },
     "execution_count": 35,
     "metadata": {},
     "output_type": "execute_result"
    }
   ],
   "source": [
    "raw_review_All_Beauty"
   ]
  },
  {
   "cell_type": "code",
   "execution_count": 37,
   "metadata": {},
   "outputs": [
    {
     "name": "stdout",
     "output_type": "stream",
     "text": [
      "{'rating': 5.0, 'title': 'Such a lovely scent but not overpowering.', 'text': \"This spray is really nice. It smells really good, goes on really fine, and does the trick. I will say it feels like you need a lot of it though to get the texture I want. I have a lot of hair, medium thickness. I am comparing to other brands with yucky chemicals so I'm gonna stick with this. Try it!\", 'images': [], 'asin': 'B00YQ6X8EO', 'parent_asin': 'B00YQ6X8EO', 'user_id': 'AGKHLEW2SOWHNMFQIJGBECAF7INQ', 'timestamp': 1588687728923, 'helpful_vote': 0, 'verified_purchase': True}\n",
      "{'rating': 4.0, 'title': 'Works great but smells a little weird.', 'text': 'This product does what I need it to do, I just wish it was odorless or had a soft coconut smell. Having my head smell like an orange coffee is offputting. (granted, I did know the smell was described but I was hoping it would be light)', 'images': [], 'asin': 'B081TJ8YS3', 'parent_asin': 'B081TJ8YS3', 'user_id': 'AGKHLEW2SOWHNMFQIJGBECAF7INQ', 'timestamp': 1588615855070, 'helpful_vote': 1, 'verified_purchase': True}\n"
     ]
    }
   ],
   "source": [
    "for i in range(2):\n",
    "  print(raw_review_All_Beauty[i])"
   ]
  },
  {
   "cell_type": "code",
   "execution_count": 38,
   "metadata": {},
   "outputs": [
    {
     "data": {
      "text/plain": [
       "{'rating': 5.0,\n",
       " 'title': 'Such a lovely scent but not overpowering.',\n",
       " 'text': \"This spray is really nice. It smells really good, goes on really fine, and does the trick. I will say it feels like you need a lot of it though to get the texture I want. I have a lot of hair, medium thickness. I am comparing to other brands with yucky chemicals so I'm gonna stick with this. Try it!\",\n",
       " 'images': [],\n",
       " 'asin': 'B00YQ6X8EO',\n",
       " 'parent_asin': 'B00YQ6X8EO',\n",
       " 'user_id': 'AGKHLEW2SOWHNMFQIJGBECAF7INQ',\n",
       " 'timestamp': 1588687728923,\n",
       " 'helpful_vote': 0,\n",
       " 'verified_purchase': True}"
      ]
     },
     "execution_count": 38,
     "metadata": {},
     "output_type": "execute_result"
    }
   ],
   "source": [
    "raw_review_All_Beauty[0]"
   ]
  },
  {
   "cell_type": "code",
   "execution_count": 90,
   "metadata": {},
   "outputs": [
    {
     "data": {
      "text/html": [
       "<div>\n",
       "<style scoped>\n",
       "    .dataframe tbody tr th:only-of-type {\n",
       "        vertical-align: middle;\n",
       "    }\n",
       "\n",
       "    .dataframe tbody tr th {\n",
       "        vertical-align: top;\n",
       "    }\n",
       "\n",
       "    .dataframe thead th {\n",
       "        text-align: right;\n",
       "    }\n",
       "</style>\n",
       "<table border=\"1\" class=\"dataframe\">\n",
       "  <thead>\n",
       "    <tr style=\"text-align: right;\">\n",
       "      <th></th>\n",
       "      <th>rating</th>\n",
       "      <th>asin</th>\n",
       "      <th>parent_asin</th>\n",
       "      <th>user_id</th>\n",
       "      <th>helpful_vote</th>\n",
       "      <th>verified_purchase</th>\n",
       "      <th>review</th>\n",
       "      <th>year</th>\n",
       "      <th>month</th>\n",
       "      <th>date</th>\n",
       "      <th>day_of_week</th>\n",
       "      <th>hour</th>\n",
       "    </tr>\n",
       "  </thead>\n",
       "  <tbody>\n",
       "    <tr>\n",
       "      <th>0</th>\n",
       "      <td>5.0</td>\n",
       "      <td>B00YQ6X8EO</td>\n",
       "      <td>B00YQ6X8EO</td>\n",
       "      <td>AGKHLEW2SOWHNMFQIJGBECAF7INQ</td>\n",
       "      <td>0</td>\n",
       "      <td>True</td>\n",
       "      <td>Such a lovely scent but not overpowering. This...</td>\n",
       "      <td>2020</td>\n",
       "      <td>5</td>\n",
       "      <td>2020-05-05</td>\n",
       "      <td>Tuesday</td>\n",
       "      <td>14</td>\n",
       "    </tr>\n",
       "    <tr>\n",
       "      <th>1</th>\n",
       "      <td>4.0</td>\n",
       "      <td>B081TJ8YS3</td>\n",
       "      <td>B081TJ8YS3</td>\n",
       "      <td>AGKHLEW2SOWHNMFQIJGBECAF7INQ</td>\n",
       "      <td>1</td>\n",
       "      <td>True</td>\n",
       "      <td>Works great but smells a little weird. This pr...</td>\n",
       "      <td>2020</td>\n",
       "      <td>5</td>\n",
       "      <td>2020-05-04</td>\n",
       "      <td>Monday</td>\n",
       "      <td>18</td>\n",
       "    </tr>\n",
       "    <tr>\n",
       "      <th>2</th>\n",
       "      <td>5.0</td>\n",
       "      <td>B07PNNCSP9</td>\n",
       "      <td>B097R46CSY</td>\n",
       "      <td>AE74DYR3QUGVPZJ3P7RFWBGIX7XQ</td>\n",
       "      <td>2</td>\n",
       "      <td>True</td>\n",
       "      <td>Yes! Smells good, feels great!</td>\n",
       "      <td>2020</td>\n",
       "      <td>5</td>\n",
       "      <td>2020-05-16</td>\n",
       "      <td>Saturday</td>\n",
       "      <td>21</td>\n",
       "    </tr>\n",
       "    <tr>\n",
       "      <th>3</th>\n",
       "      <td>1.0</td>\n",
       "      <td>B09JS339BZ</td>\n",
       "      <td>B09JS339BZ</td>\n",
       "      <td>AFQLNQNQYFWQZPJQZS6V3NZU4QBQ</td>\n",
       "      <td>0</td>\n",
       "      <td>True</td>\n",
       "      <td>Synthetic feeling Felt synthetic</td>\n",
       "      <td>2022</td>\n",
       "      <td>1</td>\n",
       "      <td>2022-01-28</td>\n",
       "      <td>Friday</td>\n",
       "      <td>18</td>\n",
       "    </tr>\n",
       "    <tr>\n",
       "      <th>4</th>\n",
       "      <td>5.0</td>\n",
       "      <td>B08BZ63GMJ</td>\n",
       "      <td>B08BZ63GMJ</td>\n",
       "      <td>AFQLNQNQYFWQZPJQZS6V3NZU4QBQ</td>\n",
       "      <td>0</td>\n",
       "      <td>True</td>\n",
       "      <td>A+ Love it</td>\n",
       "      <td>2020</td>\n",
       "      <td>12</td>\n",
       "      <td>2020-12-30</td>\n",
       "      <td>Wednesday</td>\n",
       "      <td>10</td>\n",
       "    </tr>\n",
       "    <tr>\n",
       "      <th>...</th>\n",
       "      <td>...</td>\n",
       "      <td>...</td>\n",
       "      <td>...</td>\n",
       "      <td>...</td>\n",
       "      <td>...</td>\n",
       "      <td>...</td>\n",
       "      <td>...</td>\n",
       "      <td>...</td>\n",
       "      <td>...</td>\n",
       "      <td>...</td>\n",
       "      <td>...</td>\n",
       "      <td>...</td>\n",
       "    </tr>\n",
       "    <tr>\n",
       "      <th>701523</th>\n",
       "      <td>4.0</td>\n",
       "      <td>B006YUIWKA</td>\n",
       "      <td>B006YUIWKA</td>\n",
       "      <td>AFIXGFVEGLMOTMBTJL7H3VSIETDQ</td>\n",
       "      <td>0</td>\n",
       "      <td>True</td>\n",
       "      <td>Four Stars Conditioner is great  shampoo not a...</td>\n",
       "      <td>2016</td>\n",
       "      <td>11</td>\n",
       "      <td>2016-11-04</td>\n",
       "      <td>Friday</td>\n",
       "      <td>2</td>\n",
       "    </tr>\n",
       "    <tr>\n",
       "      <th>701524</th>\n",
       "      <td>1.0</td>\n",
       "      <td>B006YUIWKA</td>\n",
       "      <td>B006YUIWKA</td>\n",
       "      <td>AFV7YZFOJF564EZGET5LG45K4QEA</td>\n",
       "      <td>0</td>\n",
       "      <td>False</td>\n",
       "      <td>Pretty Did not work! Used the whole bottle and...</td>\n",
       "      <td>2016</td>\n",
       "      <td>12</td>\n",
       "      <td>2016-12-05</td>\n",
       "      <td>Monday</td>\n",
       "      <td>3</td>\n",
       "    </tr>\n",
       "    <tr>\n",
       "      <th>701525</th>\n",
       "      <td>5.0</td>\n",
       "      <td>B06ZZV9MZT</td>\n",
       "      <td>B06ZZV9MZT</td>\n",
       "      <td>AHYDCWDMMVMLBX7FY7M7JKADKRDQ</td>\n",
       "      <td>0</td>\n",
       "      <td>True</td>\n",
       "      <td>Great sunless tanner Product as expected. Ship...</td>\n",
       "      <td>2020</td>\n",
       "      <td>5</td>\n",
       "      <td>2020-05-27</td>\n",
       "      <td>Wednesday</td>\n",
       "      <td>2</td>\n",
       "    </tr>\n",
       "    <tr>\n",
       "      <th>701526</th>\n",
       "      <td>5.0</td>\n",
       "      <td>B000HB6VLE</td>\n",
       "      <td>B000HB6VLE</td>\n",
       "      <td>AF6ZIAEN7TQ2WY5ZL77F6JDPV7XQ</td>\n",
       "      <td>4</td>\n",
       "      <td>False</td>\n",
       "      <td>The Crown on top is a Ring!!! Not only is it a...</td>\n",
       "      <td>2007</td>\n",
       "      <td>7</td>\n",
       "      <td>2007-07-18</td>\n",
       "      <td>Wednesday</td>\n",
       "      <td>22</td>\n",
       "    </tr>\n",
       "    <tr>\n",
       "      <th>701527</th>\n",
       "      <td>4.0</td>\n",
       "      <td>B0093MXHFG</td>\n",
       "      <td>B0093MXHFG</td>\n",
       "      <td>AGIYQU6RK6TBKBCMWKVPBPBMMJNA</td>\n",
       "      <td>1</td>\n",
       "      <td>True</td>\n",
       "      <td>Good Shampoo/Conditioner The conditioner doesn...</td>\n",
       "      <td>2013</td>\n",
       "      <td>4</td>\n",
       "      <td>2013-04-26</td>\n",
       "      <td>Friday</td>\n",
       "      <td>2</td>\n",
       "    </tr>\n",
       "  </tbody>\n",
       "</table>\n",
       "<p>701528 rows × 12 columns</p>\n",
       "</div>"
      ],
      "text/plain": [
       "        rating        asin parent_asin                       user_id  \\\n",
       "0          5.0  B00YQ6X8EO  B00YQ6X8EO  AGKHLEW2SOWHNMFQIJGBECAF7INQ   \n",
       "1          4.0  B081TJ8YS3  B081TJ8YS3  AGKHLEW2SOWHNMFQIJGBECAF7INQ   \n",
       "2          5.0  B07PNNCSP9  B097R46CSY  AE74DYR3QUGVPZJ3P7RFWBGIX7XQ   \n",
       "3          1.0  B09JS339BZ  B09JS339BZ  AFQLNQNQYFWQZPJQZS6V3NZU4QBQ   \n",
       "4          5.0  B08BZ63GMJ  B08BZ63GMJ  AFQLNQNQYFWQZPJQZS6V3NZU4QBQ   \n",
       "...        ...         ...         ...                           ...   \n",
       "701523     4.0  B006YUIWKA  B006YUIWKA  AFIXGFVEGLMOTMBTJL7H3VSIETDQ   \n",
       "701524     1.0  B006YUIWKA  B006YUIWKA  AFV7YZFOJF564EZGET5LG45K4QEA   \n",
       "701525     5.0  B06ZZV9MZT  B06ZZV9MZT  AHYDCWDMMVMLBX7FY7M7JKADKRDQ   \n",
       "701526     5.0  B000HB6VLE  B000HB6VLE  AF6ZIAEN7TQ2WY5ZL77F6JDPV7XQ   \n",
       "701527     4.0  B0093MXHFG  B0093MXHFG  AGIYQU6RK6TBKBCMWKVPBPBMMJNA   \n",
       "\n",
       "        helpful_vote  verified_purchase  \\\n",
       "0                  0               True   \n",
       "1                  1               True   \n",
       "2                  2               True   \n",
       "3                  0               True   \n",
       "4                  0               True   \n",
       "...              ...                ...   \n",
       "701523             0               True   \n",
       "701524             0              False   \n",
       "701525             0               True   \n",
       "701526             4              False   \n",
       "701527             1               True   \n",
       "\n",
       "                                                   review  year  month  \\\n",
       "0       Such a lovely scent but not overpowering. This...  2020      5   \n",
       "1       Works great but smells a little weird. This pr...  2020      5   \n",
       "2                          Yes! Smells good, feels great!  2020      5   \n",
       "3                        Synthetic feeling Felt synthetic  2022      1   \n",
       "4                                              A+ Love it  2020     12   \n",
       "...                                                   ...   ...    ...   \n",
       "701523  Four Stars Conditioner is great  shampoo not a...  2016     11   \n",
       "701524  Pretty Did not work! Used the whole bottle and...  2016     12   \n",
       "701525  Great sunless tanner Product as expected. Ship...  2020      5   \n",
       "701526  The Crown on top is a Ring!!! Not only is it a...  2007      7   \n",
       "701527  Good Shampoo/Conditioner The conditioner doesn...  2013      4   \n",
       "\n",
       "              date day_of_week  hour  \n",
       "0       2020-05-05     Tuesday    14  \n",
       "1       2020-05-04      Monday    18  \n",
       "2       2020-05-16    Saturday    21  \n",
       "3       2022-01-28      Friday    18  \n",
       "4       2020-12-30   Wednesday    10  \n",
       "...            ...         ...   ...  \n",
       "701523  2016-11-04      Friday     2  \n",
       "701524  2016-12-05      Monday     3  \n",
       "701525  2020-05-27   Wednesday     2  \n",
       "701526  2007-07-18   Wednesday    22  \n",
       "701527  2013-04-26      Friday     2  \n",
       "\n",
       "[701528 rows x 12 columns]"
      ]
     },
     "execution_count": 90,
     "metadata": {},
     "output_type": "execute_result"
    }
   ],
   "source": [
    "All_Beauty = pd.DataFrame(raw_review_All_Beauty.to_pandas())\n",
    "All_Beauty = All_Beauty.drop(['images'], axis=1)\n",
    "All_Beauty['review'] = All_Beauty['title'] + ' ' + All_Beauty['text']\n",
    "All_Beauty = All_Beauty.drop(['title', 'text'], axis=1)\n",
    "All_Beauty['rating'] = All_Beauty['rating'].astype('category')\n",
    "All_Beauty['timestamp'] = pd.to_datetime(All_Beauty['timestamp'], unit='ms')\n",
    "All_Beauty['year'] = All_Beauty['timestamp'].dt.year\n",
    "All_Beauty['month'] = All_Beauty['timestamp'].dt.month\n",
    "All_Beauty['date'] = All_Beauty['timestamp'].dt.date\n",
    "All_Beauty['day_of_week'] = All_Beauty['timestamp'].dt.day_name()\n",
    "All_Beauty['hour'] = All_Beauty['timestamp'].dt.hour\n",
    "\n",
    "All_Beauty = All_Beauty.drop(['timestamp'], axis=1)\n",
    "\n",
    "All_Beauty"
   ]
  },
  {
   "cell_type": "code",
   "execution_count": 94,
   "metadata": {},
   "outputs": [
    {
     "data": {
      "image/png": "[encoded data removed]",
      "text/plain": [
       "<Figure size 600x300 with 1 Axes>"
      ]
     },
     "metadata": {},
     "output_type": "display_data"
    }
   ],
   "source": [
    "# plot distribution of reviews over time\n",
    "\n",
    "\n",
    "plt.figure(figsize=(6, 3))\n",
    "sns.histplot(All_Beauty['year'], kde=False, bins=10)\n",
    "plt.title('Distribution of Reviews Over Time')\n",
    "plt.show()"
   ]
  },
  {
   "cell_type": "code",
   "execution_count": 106,
   "metadata": {},
   "outputs": [
    {
     "data": {
      "image/png": "[encoded data removed]",
      "text/plain": [
       "<Figure size 600x300 with 1 Axes>"
      ]
     },
     "metadata": {},
     "output_type": "display_data"
    }
   ],
   "source": [
    "plt.figure(figsize=(6, 3))\n",
    "sns.histplot(All_Beauty['rating'], kde=False)\n",
    "plt.title('Distribution of Ratings')\n",
    "plt.show()"
   ]
  },
  {
   "cell_type": "code",
   "execution_count": null,
   "metadata": {},
   "outputs": [],
   "source": []
  }
 ],
 "metadata": {
  "kernelspec": {
   "display_name": "Python 3",
   "language": "python",
   "name": "python3"
  },
  "language_info": {
   "codemirror_mode": {
    "name": "ipython",
    "version": 3
   },
   "file_extension": ".py",
   "mimetype": "text/x-python",
   "name": "python",
   "nbconvert_exporter": "python",
   "pygments_lexer": "ipython3",
   "version": "3.12.0"
  }
 },
 "nbformat": 4,
 "nbformat_minor": 2
}
